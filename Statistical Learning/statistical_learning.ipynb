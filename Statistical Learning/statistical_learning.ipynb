{
 "cells": [
  {
   "cell_type": "code",
   "execution_count": 24,
   "metadata": {},
   "outputs": [],
   "source": [
    "import numpy as np"
   ]
  },
  {
   "cell_type": "code",
   "execution_count": 61,
   "metadata": {},
   "outputs": [],
   "source": [
    "z = np.random.default_rng(seed = 42)"
   ]
  },
  {
   "cell_type": "code",
   "execution_count": 62,
   "metadata": {},
   "outputs": [],
   "source": [
    "y = z.normal(loc = 100, scale = 1, size = 50)"
   ]
  },
  {
   "cell_type": "code",
   "execution_count": 63,
   "metadata": {},
   "outputs": [
    {
     "data": {
      "text/plain": [
       "array([100.30471708,  98.96001589, 100.7504512 , 100.94056472,\n",
       "        98.04896481,  98.69782049, 100.1278404 ,  99.68375741,\n",
       "        99.98319884,  99.14695607, 100.87939797, 100.77779194,\n",
       "       100.0660307 , 101.12724121, 100.46750934,  99.14070754,\n",
       "       100.36875078,  99.0411174 , 100.8784503 ,  99.95007409,\n",
       "        99.81513764,  99.31907046, 101.22254134,  99.84547052,\n",
       "        99.57167218,  99.64786645, 100.53230919, 100.36544406,\n",
       "       100.41273261, 100.430821  , 102.1416476 ,  99.59358498,\n",
       "        99.48775727,  99.18622727, 100.61597942, 101.12897229,\n",
       "        99.88605254,  99.15984352,  99.17551878, 100.65059279,\n",
       "       100.74325417, 100.54315427,  99.33449029, 100.23216132,\n",
       "       100.11668581, 100.2186886 , 100.87142878, 100.22359555,\n",
       "       100.67891356, 100.06757907])"
      ]
     },
     "execution_count": 63,
     "metadata": {},
     "output_type": "execute_result"
    }
   ],
   "source": [
    "y"
   ]
  },
  {
   "cell_type": "code",
   "execution_count": 64,
   "metadata": {},
   "outputs": [
    {
     "data": {
      "text/plain": [
       "np.float64(100.09121103049301)"
      ]
     },
     "execution_count": 64,
     "metadata": {},
     "output_type": "execute_result"
    }
   ],
   "source": [
    "np.mean(y)"
   ]
  },
  {
   "cell_type": "code",
   "execution_count": 68,
   "metadata": {},
   "outputs": [
    {
     "data": {
      "text/plain": [
       "Generator(PCG64) at 0x7FF175C290E0"
      ]
     },
     "execution_count": 68,
     "metadata": {},
     "output_type": "execute_result"
    }
   ],
   "source": [
    "np.random.default_rng(seed=42)"
   ]
  },
  {
   "cell_type": "code",
   "execution_count": 80,
   "metadata": {},
   "outputs": [],
   "source": [
    "rng = np.random.default_rng(3)\n"
   ]
  },
  {
   "cell_type": "code",
   "execution_count": 84,
   "metadata": {},
   "outputs": [
    {
     "name": "stdout",
     "output_type": "stream",
     "text": [
      "[[ 0.02425957  1.54582085  0.54510552]\n",
      " [-0.50522874 -0.18283897  0.54052513]\n",
      " [ 1.93508803 -0.26962033 -0.24355868]\n",
      " [ 1.0023136  -0.88645994 -0.29172023]\n",
      " [ 0.88253897  0.58035002  0.0915167 ]\n",
      " [ 0.67010435 -2.82816231  1.02130682]\n",
      " [-0.95964476 -1.66861984  0.27644576]\n",
      " [ 0.70054489 -0.44476746 -1.07640584]\n",
      " [ 0.02612483 -0.05274731  1.40559817]\n",
      " [ 0.74740799  0.19381565  1.11163321]]\n"
     ]
    }
   ],
   "source": [
    "y = rng.standard_normal((10, 3))\n",
    "print(y)"
   ]
  },
  {
   "cell_type": "code",
   "execution_count": 90,
   "metadata": {},
   "outputs": [
    {
     "data": {
      "text/plain": [
       "array([ 0.70506198, -0.04918086,  0.47396968, -0.05862219,  0.51813523,\n",
       "       -0.37891704, -0.78393961, -0.2735428 ,  0.45965856,  0.68428561])"
      ]
     },
     "execution_count": 90,
     "metadata": {},
     "output_type": "execute_result"
    }
   ],
   "source": [
    "y.mean(1)"
   ]
  },
  {
   "cell_type": "code",
   "execution_count": null,
   "metadata": {},
   "outputs": [],
   "source": []
  }
 ],
 "metadata": {
  "kernelspec": {
   "display_name": "Python 3",
   "language": "python",
   "name": "python3"
  },
  "language_info": {
   "codemirror_mode": {
    "name": "ipython",
    "version": 3
   },
   "file_extension": ".py",
   "mimetype": "text/x-python",
   "name": "python",
   "nbconvert_exporter": "python",
   "pygments_lexer": "ipython3",
   "version": "3.12.1"
  }
 },
 "nbformat": 4,
 "nbformat_minor": 2
}
